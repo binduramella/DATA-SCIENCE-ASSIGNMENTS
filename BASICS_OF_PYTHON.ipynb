{
  "nbformat": 4,
  "nbformat_minor": 0,
  "metadata": {
    "colab": {
      "provenance": []
    },
    "kernelspec": {
      "name": "python3",
      "display_name": "Python 3"
    },
    "language_info": {
      "name": "python"
    }
  },
  "cells": [
    {
      "cell_type": "markdown",
      "source": [
        "# **PRIME** **NUMBERS**"
      ],
      "metadata": {
        "id": "8tKmDOjMZur6"
      }
    },
    {
      "cell_type": "code",
      "source": [
        "def is_prime(number):\n",
        "  if number <= 1:\n",
        "    return False\n",
        "  for i in range(2, int(number**0.5) + 1):\n",
        "    if number % i == 0:\n",
        "      return False\n",
        "  return True\n",
        "\n",
        "# Get input from the user\n",
        "num = int(input(\"Enter a number: \"))\n",
        "\n",
        "# Check if the number is prime\n",
        "if is_prime(num):\n",
        "  print(f\"{num} is a prime number.\")\n",
        "else:\n",
        "  print(f\"{num} is not a prime number.\")"
      ],
      "metadata": {
        "colab": {
          "base_uri": "https://localhost:8080/"
        },
        "id": "5Rl-bIE_AYZ1",
        "outputId": "ca54d461-41ff-4228-e42a-28f35110c9f2"
      },
      "execution_count": null,
      "outputs": [
        {
          "output_type": "stream",
          "name": "stdout",
          "text": [
            "Enter a number: 5\n",
            "5 is a prime number.\n"
          ]
        }
      ]
    },
    {
      "cell_type": "markdown",
      "source": [
        "# **PRODUCT OF RANDOM NUMBERS**"
      ],
      "metadata": {
        "id": "G2tty0HXaF3K"
      }
    },
    {
      "cell_type": "code",
      "source": [
        "import random\n",
        "\n",
        "# Get user input for the range of random numbers\n",
        "low = int(input())\n",
        "high = int(input())\n",
        "\n",
        "# Generate two random numbers within the provided range\n",
        "num1 = random.randint(low, high)\n",
        "num2 = random.randint(low, high)\n",
        "\n",
        "# Ask the user for the product of the two numbers\n",
        "user_answer = int(input(f\"What is the product of {num1} and {num2}? \"))\n",
        "\n",
        "# Check if the user's answer is correct\n",
        "correct_answer = num1 * num2\n",
        "\n",
        "if user_answer == correct_answer:\n",
        "    print(\"Correct! Well done.\")\n",
        "else:\n",
        "    print(f\"Incorrect. The correct answer is {correct_answer}.\")\n"
      ],
      "metadata": {
        "colab": {
          "base_uri": "https://localhost:8080/"
        },
        "id": "ImOzQ316AgmJ",
        "outputId": "d01a35e7-36e7-4529-8589-8ddc8e4a4d99"
      },
      "execution_count": null,
      "outputs": [
        {
          "output_type": "stream",
          "name": "stdout",
          "text": [
            "99\n",
            "199\n",
            "What is the product of 103 and 125? 986532456789\n",
            "Incorrect. The correct answer is 12875.\n"
          ]
        }
      ]
    },
    {
      "cell_type": "markdown",
      "source": [
        "#  **SQUARES OF EVEN / ODD NUMBERS**"
      ],
      "metadata": {
        "id": "IZO6miZXamT3"
      }
    },
    {
      "cell_type": "code",
      "source": [
        "low=int(input())\n",
        "high=int(input())\n",
        "for num in range(low,high):\n",
        "    # Check if the number is even\n",
        "    if num % 2 == 0:\n",
        "        # Print the square of the even number\n",
        "        print(f\"The square of {num} is {num ** 2}\")"
      ],
      "metadata": {
        "colab": {
          "base_uri": "https://localhost:8080/"
        },
        "id": "UkOdL2wrBV-s",
        "outputId": "1a6b1d6b-4014-4369-abfc-19283d68834b"
      },
      "execution_count": null,
      "outputs": [
        {
          "output_type": "stream",
          "name": "stdout",
          "text": [
            "100\n",
            "200\n",
            "The square of 100 is 10000\n",
            "The square of 102 is 10404\n",
            "The square of 104 is 10816\n",
            "The square of 106 is 11236\n",
            "The square of 108 is 11664\n",
            "The square of 110 is 12100\n",
            "The square of 112 is 12544\n",
            "The square of 114 is 12996\n",
            "The square of 116 is 13456\n",
            "The square of 118 is 13924\n",
            "The square of 120 is 14400\n",
            "The square of 122 is 14884\n",
            "The square of 124 is 15376\n",
            "The square of 126 is 15876\n",
            "The square of 128 is 16384\n",
            "The square of 130 is 16900\n",
            "The square of 132 is 17424\n",
            "The square of 134 is 17956\n",
            "The square of 136 is 18496\n",
            "The square of 138 is 19044\n",
            "The square of 140 is 19600\n",
            "The square of 142 is 20164\n",
            "The square of 144 is 20736\n",
            "The square of 146 is 21316\n",
            "The square of 148 is 21904\n",
            "The square of 150 is 22500\n",
            "The square of 152 is 23104\n",
            "The square of 154 is 23716\n",
            "The square of 156 is 24336\n",
            "The square of 158 is 24964\n",
            "The square of 160 is 25600\n",
            "The square of 162 is 26244\n",
            "The square of 164 is 26896\n",
            "The square of 166 is 27556\n",
            "The square of 168 is 28224\n",
            "The square of 170 is 28900\n",
            "The square of 172 is 29584\n",
            "The square of 174 is 30276\n",
            "The square of 176 is 30976\n",
            "The square of 178 is 31684\n",
            "The square of 180 is 32400\n",
            "The square of 182 is 33124\n",
            "The square of 184 is 33856\n",
            "The square of 186 is 34596\n",
            "The square of 188 is 35344\n",
            "The square of 190 is 36100\n",
            "The square of 192 is 36864\n",
            "The square of 194 is 37636\n",
            "The square of 196 is 38416\n",
            "The square of 198 is 39204\n"
          ]
        }
      ]
    },
    {
      "cell_type": "markdown",
      "source": [
        "# **WORD COUNTER**"
      ],
      "metadata": {
        "id": "stJgw0Ola7qQ"
      }
    },
    {
      "cell_type": "code",
      "source": [
        "def count_words(text):\n",
        "  word_counts = {}\n",
        "  words = text.split()  # Split the text into words\n",
        "\n",
        "  for word in words:\n",
        "      word = word.strip('.,!?\"').lower() # Remove punctuation and convert to lowercase\n",
        "      if word: # Check if the word is not empty\n",
        "          if word in word_counts:\n",
        "              word_counts[word] += 1\n",
        "          else:\n",
        "              word_counts[word] = 1\n",
        "  return word_counts\n",
        "\n",
        "\n",
        "input_text = \"This is a sample text. This text will be used to demonstrate the word counter.\"\n",
        "word_counts = count_words(input_text)\n",
        "\n",
        "for word, count in word_counts.items():\n",
        "    print(f\"'{word}': {count}\")"
      ],
      "metadata": {
        "colab": {
          "base_uri": "https://localhost:8080/"
        },
        "id": "nhu4gPSobuTa",
        "outputId": "8c9940d9-b28b-4ae9-99b8-f2ae43af86e1"
      },
      "execution_count": null,
      "outputs": [
        {
          "output_type": "stream",
          "name": "stdout",
          "text": [
            "'this': 2\n",
            "'is': 1\n",
            "'a': 1\n",
            "'sample': 1\n",
            "'text': 2\n",
            "'will': 1\n",
            "'be': 1\n",
            "'used': 1\n",
            "'to': 1\n",
            "'demonstrate': 1\n",
            "'the': 1\n",
            "'word': 1\n",
            "'counter': 1\n"
          ]
        }
      ]
    },
    {
      "cell_type": "markdown",
      "source": [
        "# **PALINDROME**"
      ],
      "metadata": {
        "id": "ESUnJsPLfRGZ"
      }
    },
    {
      "cell_type": "code",
      "source": [
        "# Input string from the user\n",
        "string = input(\"Enter a string: \")\n",
        "\n",
        "# Remove spaces, punctuation, and convert to lowercase\n",
        "cleaned_string = ''.join(char.lower() for char in string if char.isalnum())\n",
        "\n",
        "# Check if the cleaned string is equal to its reverse\n",
        "result = cleaned_string == cleaned_string[::-1]\n",
        "\n",
        "# Print the result\n",
        "print(result)\n"
      ],
      "metadata": {
        "colab": {
          "base_uri": "https://localhost:8080/"
        },
        "id": "SVntDIfTev_a",
        "outputId": "c687b689-7394-410f-815b-6990a4d3a8ff"
      },
      "execution_count": null,
      "outputs": [
        {
          "output_type": "stream",
          "name": "stdout",
          "text": [
            "Enter a string: dad\n",
            "True\n"
          ]
        }
      ]
    },
    {
      "cell_type": "code",
      "source": [],
      "metadata": {
        "id": "GTe-WsrOh8Dm"
      },
      "execution_count": null,
      "outputs": []
    }
  ]
}