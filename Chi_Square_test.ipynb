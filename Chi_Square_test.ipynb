{
  "nbformat": 4,
  "nbformat_minor": 0,
  "metadata": {
    "colab": {
      "provenance": []
    },
    "kernelspec": {
      "name": "python3",
      "display_name": "Python 3"
    },
    "language_info": {
      "name": "python"
    }
  },
  "cells": [
    {
      "cell_type": "code",
      "execution_count": 1,
      "metadata": {
        "colab": {
          "base_uri": "https://localhost:8080/"
        },
        "id": "r0zu4yoJ4wq8",
        "outputId": "6e59a261-e482-4529-c1d4-442d0ee0831a"
      },
      "outputs": [
        {
          "output_type": "stream",
          "name": "stdout",
          "text": [
            "Chi-Square Statistic: 5.6382\n",
            "P-Value: 0.2278\n",
            "Degrees of Freedom: 4\n",
            "Expected Frequencies:\n",
            " [[ 48.  72.]\n",
            " [ 72. 108.]\n",
            " [ 60.  90.]\n",
            " [ 32.  48.]\n",
            " [ 28.  42.]]\n",
            "Critical Value (at alpha = 0.05 ): 9.4877\n",
            "Fail to reject the null hypothesis: No significant association found between device type and satisfaction level.\n"
          ]
        }
      ],
      "source": [
        "import numpy as np\n",
        "import scipy.stats as stats\n",
        "\n",
        "# Step 1: State the Hypotheses\n",
        "# Step 2: Create the contingency table\n",
        "observed = np.array([[50, 70], [80, 100], [60, 90], [30, 50], [20, 50]])\n",
        "\n",
        "# Step 3: Compute the Chi-Square Statistic\n",
        "chi2_stat, p_value, dof, expected = stats.chi2_contingency(observed)\n",
        "\n",
        "# Step 4: Determine the Critical Value\n",
        "alpha = 0.05  # Significance level\n",
        "degrees_of_freedom = (observed.shape[0] - 1) * (observed.shape[1] - 1)\n",
        "critical_value = stats.chi2.ppf(1 - alpha, degrees_of_freedom)\n",
        "\n",
        "# Step 5: Make a Decision\n",
        "print(\"Chi-Square Statistic:\", round(chi2_stat, 4))\n",
        "print(\"P-Value:\", round(p_value, 4))\n",
        "print(\"Degrees of Freedom:\", dof)\n",
        "print(\"Expected Frequencies:\\n\", expected)\n",
        "print(\"Critical Value (at alpha =\", alpha, \"):\", round(critical_value, 4))\n",
        "\n",
        "if chi2_stat > critical_value:\n",
        "    print(\"Reject the null hypothesis: There is a significant association between device type and satisfaction level.\")\n",
        "else:\n",
        "    print(\"Fail to reject the null hypothesis: No significant association found between device type and satisfaction level.\")\n"
      ]
    },
    {
      "cell_type": "markdown",
      "source": [
        "### **Step 1: State the Hypotheses**\n",
        "- **Null Hypothesis (H₀):** There is no significant association between the type of smart home device (Smart Thermostat or Smart Light) and customer satisfaction levels.\n",
        "- **Alternative Hypothesis (H₁):** There is a significant association between the type of smart home device and customer satisfaction levels.\n",
        "\n",
        "### **Step 2: Create the Contingency Table**\n",
        "- The given data is structured in a **contingency table**, where each cell represents the number of customers in a particular satisfaction category for a specific device.\n",
        "- We store this data in a **NumPy array** for computational purposes.\n",
        "\n",
        "### **Step 3: Compute the Chi-Square Statistic**\n",
        "- The **Chi-Square test for independence** compares observed frequencies with expected frequencies to determine if there is a relationship between the two categorical variables.\n",
        "- We use `scipy.stats.chi2_contingency(observed)` to:\n",
        "  - Calculate the **Chi-Square statistic** (`chi2_stat`).\n",
        "  - Get the **p-value** (`p_value`), which helps determine statistical significance.\n",
        "  - Determine **degrees of freedom (dof)**, which is calculated as:\n",
        "    \\[\n",
        "    \\text{dof} = (\\text{rows} - 1) \\times (\\text{columns} - 1)\n",
        "    \\]\n",
        "  - Generate the **expected frequency table** (`expected`), which represents the values we would expect if there were no association.\n",
        "\n",
        "### **Step 4: Determine the Critical Value**\n",
        "- We set a **significance level (alpha) = 0.05**.\n",
        "- The **critical value** is obtained from the Chi-Square distribution table using `stats.chi2.ppf(1 - alpha, degrees_of_freedom)`.\n",
        "- This value serves as a threshold to compare with our computed Chi-Square statistic.\n",
        "\n",
        "### **Step 5: Make a Decision**\n",
        "- If the **Chi-Square statistic > Critical value**, we **reject the null hypothesis**, indicating a significant association between device type and customer satisfaction.\n",
        "- If the **Chi-Square statistic ≤ Critical value**, we **fail to reject the null hypothesis**, meaning there is no significant association.\n",
        "\n",
        "This structured approach ensures clarity in statistical testing and decision-making.\n",
        "\n",
        "Let me know if you need any modifications!"
      ],
      "metadata": {
        "id": "2Bz6w4D9WCDW"
      }
    },
    {
      "cell_type": "code",
      "source": [],
      "metadata": {
        "id": "6JnorJ1z5fXQ"
      },
      "execution_count": null,
      "outputs": []
    }
  ]
}