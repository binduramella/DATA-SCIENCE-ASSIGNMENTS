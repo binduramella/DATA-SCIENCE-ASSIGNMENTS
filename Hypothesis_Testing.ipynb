{
  "nbformat": 4,
  "nbformat_minor": 0,
  "metadata": {
    "colab": {
      "provenance": []
    },
    "kernelspec": {
      "name": "python3",
      "display_name": "Python 3"
    },
    "language_info": {
      "name": "python"
    }
  },
  "cells": [
    {
      "cell_type": "code",
      "execution_count": 1,
      "metadata": {
        "colab": {
          "base_uri": "https://localhost:8080/"
        },
        "id": "bzbuwNInWw9x",
        "outputId": "3a497056-29c5-4eae-a331-5fae5d4b8dd1"
      },
      "outputs": [
        {
          "output_type": "stream",
          "name": "stdout",
          "text": [
            "Test Statistic (t): -38.0\n",
            "Critical Value: 1.6449\n",
            "Decision: Fail to reject the null hypothesis\n",
            "Conclusion: There is not enough evidence to support the restaurant owners' claim that the weekly operating costs are higher than the model suggests.\n"
          ]
        }
      ],
      "source": [
        "import scipy.stats as stats\n",
        "import numpy as np\n",
        "\n",
        "# Step 1: State the Hypotheses\n",
        "# Step 2: Calculate the Test Statistic\n",
        "theoretical_mean = 1000 + 5 * 600  # Model-predicted cost\n",
        "sample_mean = 3050  # Given sample mean\n",
        "sigma = 5 * 25  # Given standard deviation of X * 5\n",
        "n = 25  # Sample size\n",
        "\n",
        "# Compute the test statistic\n",
        "t_statistic = (sample_mean - theoretical_mean) / (sigma / np.sqrt(n))\n",
        "\n",
        "# Step 3: Determine the Critical Value\n",
        "alpha = 0.05  # Significance level\n",
        "critical_value = stats.norm.ppf(1 - alpha)  # One-tailed test\n",
        "\n",
        "# Step 4: Make a Decision\n",
        "reject_null = t_statistic > critical_value\n",
        "\n",
        "# Step 5: Conclusion\n",
        "if reject_null:\n",
        "    conclusion = \"There is strong evidence to support the restaurant owners' claim that the weekly operating costs are higher than the model suggests.\"\n",
        "else:\n",
        "    conclusion = \"There is not enough evidence to support the restaurant owners' claim that the weekly operating costs are higher than the model suggests.\"\n",
        "\n",
        "# Print results\n",
        "print(\"Test Statistic (t):\", round(t_statistic, 4))\n",
        "print(\"Critical Value:\", round(critical_value, 4))\n",
        "print(\"Decision:\", \"Reject\" if reject_null else \"Fail to reject\", \"the null hypothesis\")\n",
        "print(\"Conclusion:\", conclusion)\n"
      ]
    },
    {
      "cell_type": "code",
      "source": [],
      "metadata": {
        "id": "8whfhY7yXPTb"
      },
      "execution_count": null,
      "outputs": []
    }
  ]
}