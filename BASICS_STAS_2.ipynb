{
  "nbformat": 4,
  "nbformat_minor": 0,
  "metadata": {
    "colab": {
      "provenance": []
    },
    "kernelspec": {
      "name": "python3",
      "display_name": "Python 3"
    },
    "language_info": {
      "name": "python"
    }
  },
  "cells": [
    {
      "cell_type": "markdown",
      "source": [
        "#####a. Build 99% Confidence Interval Using Sample Standard Deviation\n",
        "#####Assuming the sample is representative of the population, construct a 99% confidence interval for the mean number of characters printed before the print-head fails using the sample standard deviation. Explain the steps you take and the rationale behind using the t-distribution for this task."
      ],
      "metadata": {
        "id": "rXmj5oYi0Dqg"
      }
    },
    {
      "cell_type": "code",
      "source": [
        "import numpy as np\n",
        "import scipy.stats as stats\n",
        "data = [1.13, 1.55, 1.43, 0.92, 1.25, 1.36, 1.32, 0.85, 1.07, 1.48, 1.20, 1.33, 1.18, 1.22, 1.29]\n",
        "n = len(data)\n",
        "n"
      ],
      "metadata": {
        "colab": {
          "base_uri": "https://localhost:8080/"
        },
        "id": "G-KLfaN4kY4K",
        "outputId": "158867bb-27eb-4c00-8bfa-a505d1180ed5"
      },
      "execution_count": 2,
      "outputs": [
        {
          "output_type": "execute_result",
          "data": {
            "text/plain": [
              "15"
            ]
          },
          "metadata": {},
          "execution_count": 2
        }
      ]
    },
    {
      "cell_type": "code",
      "source": [
        "#calculating the mean value\n",
        "mean_value = np.mean(data)\n",
        "print(\"Mean:\",mean_value)"
      ],
      "metadata": {
        "colab": {
          "base_uri": "https://localhost:8080/"
        },
        "id": "anfexk6NoNuv",
        "outputId": "b1980975-7cd5-45ae-a138-6564fca804cf"
      },
      "execution_count": 3,
      "outputs": [
        {
          "output_type": "stream",
          "name": "stdout",
          "text": [
            "Mean: 1.2386666666666666\n"
          ]
        }
      ]
    },
    {
      "cell_type": "code",
      "source": [
        "#calculating the standard deviation value\n",
        "std_value = np.mean(data)\n",
        "print(\"Standard Deviation:\",std_value)"
      ],
      "metadata": {
        "colab": {
          "base_uri": "https://localhost:8080/"
        },
        "id": "-R7crwB4okFq",
        "outputId": "e89feba9-87fb-468b-8a30-c29e3ad2ec9a"
      },
      "execution_count": 4,
      "outputs": [
        {
          "output_type": "stream",
          "name": "stdout",
          "text": [
            "Standard Deviation: 1.2386666666666666\n"
          ]
        }
      ]
    },
    {
      "cell_type": "code",
      "source": [
        "# Degrees of freedom (df)\n",
        "df = n - 1\n",
        "\n",
        "# t-critical value for 99% confidence level (two-tailed)\n",
        "t_critical = stats.t.ppf(0.995, df)\n",
        "\n",
        "# Margin of error (ME)\n",
        "margin_of_error = t_critical * (std_value / np.sqrt(n))\n",
        "\n",
        "# Confidence Interval (CI)\n",
        "lower_bound = mean_value - margin_of_error\n",
        "upper_bound = mean_value + margin_of_error\n",
        "\n",
        "# Print results\n",
        "print(\"t calculated value :\", np.round(t_critical, 2))\n",
        "print(\"Margin of error :\", np.round(margin_of_error, 2))\n",
        "print(\"99% Confidence Interval: (\", np.round(lower_bound, 3), \",\", np.round(upper_bound, 3), \")\")\n"
      ],
      "metadata": {
        "id": "cql36PLrotUF",
        "colab": {
          "base_uri": "https://localhost:8080/"
        },
        "outputId": "684ce8a5-1eec-4e61-8a81-f58aeceba53b"
      },
      "execution_count": 5,
      "outputs": [
        {
          "output_type": "stream",
          "name": "stdout",
          "text": [
            "t calculated value : 2.98\n",
            "Margin of error : 0.95\n",
            "99% Confidence Interval: ( 0.287 , 2.191 )\n"
          ]
        }
      ]
    },
    {
      "cell_type": "markdown",
      "source": [
        "####b. Build 99% Confidence Interval Using Known Population Standard Deviation\n",
        "####If it were known that the population standard deviation is 0.2 million characters, construct a 99% confidence interval for the mean number of characters printed before failure."
      ],
      "metadata": {
        "id": "V0LJnTZh0nRe"
      }
    },
    {
      "cell_type": "code",
      "source": [
        "# Known population standard deviation\n",
        "population_std = 0.2\n",
        "\n",
        "# Z-critical value for 99% confidence level (two-tailed)\n",
        "z_critical = stats.norm.ppf(0.995)  # Use norm.ppf for the standard normal distribution\n",
        "\n",
        "# Margin of error (ME)\n",
        "margin_of_error = z_critical * (population_std / np.sqrt(n))\n",
        "\n",
        "# Confidence Interval (CI)\n",
        "lower_bound = mean_value - margin_of_error\n",
        "upper_bound = mean_value + margin_of_error\n",
        "\n",
        "# Print results\n",
        "print(\"z calculated value :\", np.round(z_critical, 2))\n",
        "print(\"Margin of error :\", np.round(margin_of_error, 2))\n",
        "print(\"99% Confidence Interval (known population standard deviation): (\", np.round(lower_bound, 3), \",\", np.round(upper_bound, 3), \")\")\n"
      ],
      "metadata": {
        "colab": {
          "base_uri": "https://localhost:8080/"
        },
        "id": "7d3OSNBpxGEF",
        "outputId": "795d178f-d6d0-4c0d-eda5-d087eaf8101d"
      },
      "execution_count": 6,
      "outputs": [
        {
          "output_type": "stream",
          "name": "stdout",
          "text": [
            "z calculated value : 2.58\n",
            "Margin of error : 0.13\n",
            "99% Confidence Interval (known population standard deviation): ( 1.106 , 1.372 )\n"
          ]
        }
      ]
    },
    {
      "cell_type": "code",
      "source": [],
      "metadata": {
        "id": "IGGcSdob1PM0"
      },
      "execution_count": null,
      "outputs": []
    }
  ]
}